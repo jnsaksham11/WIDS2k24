{
 "cells": [
  {
   "cell_type": "markdown",
   "metadata": {},
   "source": [
    "### Assignment : Week 2\n",
    "## Finding best policies in simple MDPs\n",
    "\n",
    "Great work making the MDPs in Week 1!\n",
    "\n",
    "In this assignment, we'll use the simplest RL techniques - Policy and Value iteration to find the best policies (which maximize the discounted total reward) in our MDPs from last week.\n",
    "\n",
    "Feel free to use your own MDPs, or import them from the OpenAI Gym library.\n",
    "\n",
    "You can start this assignment during/after reading Grokking Ch-3.\n",
    "\n",
    "For this you have to install gymnasium, which is an API standard for reinforcement learning with a diverse collection of reference environments. This can be easily done by running:\n",
    "\n",
    "    pip install gymnasium"
   ]
  },
  {
   "cell_type": "markdown",
   "metadata": {},
   "source": [
    "## Frozen Lake\n",
    "\n",
    "Let's now try to solve the Frozen Lake environment for some cases"
   ]
  },
  {
   "cell_type": "code",
   "execution_count": 142,
   "metadata": {},
   "outputs": [],
   "source": [
    "# Step 0 is to import stuff\n",
    "\n",
    "import gymnasium as gym\n",
    "import numpy as np\n",
    "from gymnasium.envs.toy_text.frozen_lake import generate_random_map"
   ]
  },
  {
   "cell_type": "code",
   "execution_count": 143,
   "metadata": {},
   "outputs": [],
   "source": [
    "# Step 1 is to get the MDP\n",
    "env = gym.make('FrozenLake-v1', desc=None, map_name=\"4x4\", is_slippery=True)\n",
    "env = env.unwrapped\n",
    "mdp_transitions = env.P\n",
    "init_state = env.reset()\n",
    "goal_state = 15"
   ]
  },
  {
   "cell_type": "code",
   "execution_count": 144,
   "metadata": {},
   "outputs": [],
   "source": [
    "# Step 2 is to write the policy\n",
    "\n",
    "# This is according to the convention of gymnasium\n",
    "LEFT, DOWN, RIGHT, UP = range(4)\n",
    "pi = {\n",
    "    0:RIGHT, 1:RIGHT, 2:DOWN, 3:LEFT,\n",
    "    4:DOWN, 5:LEFT, 6:DOWN, 7:LEFT,\n",
    "    8:RIGHT, 9:RIGHT, 10:DOWN, 11:LEFT,\n",
    "    12:LEFT, 13:RIGHT, 14:RIGHT, 15:LEFT\n",
    "}\n",
    "\n",
    "# Or you can do it randomly\n",
    "# pi = dict()\n",
    "# for state in mdp:\n",
    "#     pi[state] = np.random.choice(mdp[state].keys())"
   ]
  },
  {
   "cell_type": "code",
   "execution_count": 145,
   "metadata": {},
   "outputs": [],
   "source": [
    "# Step 3 is computing the value function for this envi and policy\n",
    "\n",
    "# Let us start with a random value function\n",
    "\n",
    "val = dict()\n",
    "for state in mdp_transitions:\n",
    "    val[state] = np.random.random()\n",
    "\n",
    "# Since 5, 7, 11, 12 and 15 are terminal states, we know their values are 0\n",
    "\n",
    "val[5] = 0\n",
    "val[7] = 0\n",
    "val[11] = 0\n",
    "val[12] = 0\n",
    "val[15] = 0\n",
    "\n",
    "#Or you could do it randomly, remember to set the terminal states to 0. You can also implement this while evaluating the value function using \n",
    "# val = dict()\n",
    "# for state in mdp:\n",
    "#     val[state] = np.random.random()\n",
    "#     if mdp[state][0][0][0] == 0: # if the first action in the first outcome of the first state is 0, then it is a terminal state\n",
    "#         val[state] = 0\n",
    "\n",
    "#instead of doing thsi you can simply intialize the value function to 0 for all states \n",
    "# for state in swf_mdp:\n",
    "#   val[state] = 0"
   ]
  },
  {
   "cell_type": "code",
   "execution_count": 146,
   "metadata": {},
   "outputs": [],
   "source": [
    "def get_new_value_fn(val, mdp, pi, gamma = 1.0):\n",
    "    \n",
    "    new_val = dict()\n",
    "    # Complete this function to get the new value function given the old value function and the policy\n",
    "\n",
    "    for state in mdp:\n",
    "        action = pi[state] \n",
    "        new_value = 0\n",
    "        \n",
    "        for prob, next_state, reward, done in mdp[state][action]:\n",
    "            new_value += prob * (reward + gamma * val[next_state] * (not done))\n",
    "        \n",
    "        new_val[state] = new_value\n",
    "\n",
    "    return new_val"
   ]
  },
  {
   "cell_type": "code",
   "execution_count": 147,
   "metadata": {},
   "outputs": [],
   "source": [
    "#Use to above function to get the new value function, also print how many iterations it took to converge\n",
    "def policy_evaluation(val, mdp, pi, epsilon=1e-10, gamma=1.0):\n",
    "    count = 0\n",
    "    # Complete this function to iteratively caluculate the value function until the difference between the new and old value function is less than epsilon\n",
    "    # Also return the number of iterations it took to converge\n",
    "\n",
    "    while True:\n",
    "        new_val = get_new_value_fn(val, mdp, pi, gamma)\n",
    "    \n",
    "        delta = max(abs(new_val[state] - val[state]) for state in val)\n",
    "        val = new_val\n",
    "        \n",
    "        count += 1\n",
    "        \n",
    "        if delta < epsilon:  \n",
    "            break\n",
    "\n",
    "    return val, count "
   ]
  },
  {
   "cell_type": "code",
   "execution_count": 148,
   "metadata": {},
   "outputs": [],
   "source": [
    "# Perform policy improvement using the polivy and the value function and return a new policy, the action value function should be a nested dictionary\n",
    "def policy_improvement(val, mdp, pi, gamma=1.0):\n",
    "    new_pi = dict()\n",
    "    # q = dict()\n",
    "    # Complete this function to get the new policy given the value function and the mdp\n",
    "\n",
    "    q = {state: {} for state in mdp}  # Initialize Q(s, a) for all states and actions\n",
    "    \n",
    "    for state in mdp:\n",
    "        for action in mdp[state]:\n",
    "            q_value = 0\n",
    "            for prob, next_state, reward, done in mdp[state][action]:\n",
    "                q_value += prob * (reward + gamma * val[next_state] * (not done))\n",
    "            q[state][action] = q_value \n",
    "        \n",
    "        new_pi[state] = max(q[state], key=q[state].get)\n",
    "\n",
    "    return new_pi, q\n"
   ]
  },
  {
   "cell_type": "code",
   "execution_count": 149,
   "metadata": {},
   "outputs": [],
   "source": [
    "# Use the above functions to get the optimal policy and optimal value function and return the total number of iterations it took to converge\n",
    "# Create a random policy and value function to start with or use the ones defined above\n",
    "def policy_iteration(mdp, epsilon=1e-10, gamma=1.0):\n",
    "    vval = val\n",
    "    ppi = pi\n",
    "    count = 0\n",
    "    # Complete this function to get the optimal policy and value function and return the total number of iterations it took to converge\n",
    "\n",
    "    while True:\n",
    "\n",
    "        count += 1\n",
    "\n",
    "        # Step 2: Store the old policy\n",
    "        old_pi = {s: ppi[s] for s in range(len(mdp))}\n",
    "\n",
    "        # Step 3: Policy Evaluation\n",
    "        vval, _ = policy_evaluation(vval, mdp, old_pi)\n",
    "\n",
    "        # Step 4: Policy Improvement\n",
    "        ppi, __ = policy_improvement(vval, mdp, old_pi)\n",
    "\n",
    "        # Step 5: Convergence check\n",
    "        if old_pi == {s: ppi[s] for s in range(len(mdp))}:\n",
    "            break\n",
    "\n",
    "    return ppi, vval, count"
   ]
  },
  {
   "cell_type": "code",
   "execution_count": 150,
   "metadata": {},
   "outputs": [],
   "source": [
    "#Now perform value iteration, note that the value function is a dictionary and not a list, also return the number of iterations it took to converge\n",
    "def value_iteration(mdp, gamma=1.0, epsilon=1e-10):\n",
    "    # Complete this function to get the optimal policy, optimal value function and return the total number of iterations it took to converge\n",
    "\n",
    "    V = np.zeros(len(mdp), dtype=np.float64)\n",
    "    count = 0\n",
    "    \n",
    "    while True:\n",
    "        count += 1\n",
    "        Q = np.zeros((len(mdp), len(mdp[0])), dtype=np.float64)\n",
    "        \n",
    "        for s in range(len(mdp)):\n",
    "            for a in range(len(mdp[s])):\n",
    "\n",
    "                for prob, next_state, reward, done in mdp[s][a]:\n",
    "                    Q[s][a] += prob * (reward + gamma * V[next_state] * (not done))\n",
    "\n",
    "        delta = np.max(np.abs(V - np.max(Q, axis=1)))\n",
    "\n",
    "        if delta < epsilon:\n",
    "            break\n",
    "\n",
    "        V = np.max(Q, axis=1)\n",
    "    \n",
    "    # Extract the optimal policy by selecting the action that maximizes Q-value for each state\n",
    "    pi_temp = {s: np.argmax(Q[s]) for s in range(len(mdp))}\n",
    "    \n",
    "    return pi_temp, V, count\n",
    "    "
   ]
  },
  {
   "cell_type": "code",
   "execution_count": 151,
   "metadata": {},
   "outputs": [],
   "source": [
    "#Function to print the policy you got after running the policy iteration or value iteration on the 4x4 FrozenLake environment\n",
    "def print_policy(policy, env):\n",
    "    \"\"\"\n",
    "    Prints the policy for the 4x4 FrozenLake environment in a grid layout.\n",
    "    \"\"\"\n",
    "    action_symbols = {0: '←', 1: '↓', 2: '→', 3: '↑'}  #action symbols\n",
    "    grid_size = env.desc.shape  #get the grid dimensions (e.g., 4x4)\n",
    "    \n",
    "    policy_symbols = np.array([action_symbols[action] for cell,action in policy.items()])\n",
    "    policy_grid = policy_symbols.reshape(grid_size)  #reshape into a grid\n",
    "\n",
    "    print(\"Policy Grid:\")\n",
    "    for row in policy_grid:\n",
    "        print(\" \".join(row))\n"
   ]
  },
  {
   "cell_type": "code",
   "execution_count": null,
   "metadata": {},
   "outputs": [
    {
     "name": "stdout",
     "output_type": "stream",
     "text": [
      "Policy Grid:\n",
      "← ↑ ↑ ↑\n",
      "← ← ← ←\n",
      "↑ ↓ ← ←\n",
      "← → ↓ ←\n",
      "Policy Grid:\n",
      "← ↑ ↑ ↑\n",
      "← ← ← ←\n",
      "↑ ↓ ← ←\n",
      "← → ↓ ←\n"
     ]
    },
    {
     "data": {
      "text/plain": [
       "(4, 0.0, False, False, {'prob': 0.3333333333333333})"
      ]
     },
     "execution_count": 163,
     "metadata": {},
     "output_type": "execute_result"
    }
   ],
   "source": [
    "pi1, val1, count1 = policy_iteration(mdp_transitions)\n",
    "pi2, val2, count2 = value_iteration(mdp_transitions)\n",
    "print_policy(pi1,env)\n",
    "print_policy(pi2,env)\n",
    "# env.reset()\n",
    "# env.step(0)\n"
   ]
  },
  {
   "cell_type": "markdown",
   "metadata": {},
   "source": [
    "You can also write a function `test_policy()` to test your policy after training to find the number of times you reached the goal state"
   ]
  },
  {
   "cell_type": "code",
   "execution_count": 164,
   "metadata": {},
   "outputs": [
    {
     "data": {
      "text/plain": [
       "32"
      ]
     },
     "execution_count": 164,
     "metadata": {},
     "output_type": "execute_result"
    }
   ],
   "source": [
    "# def test_policy(pi, env, goalstate):\n",
    "#     # Complete this function to test the policy\n",
    "#     return\n",
    "def test_policy(pi, env, goalstate):\n",
    "    \"\"\"\n",
    "    Test a given policy in the environment until the goalstate is reached.\n",
    "\n",
    "    Args:\n",
    "        pi (dict): The optimal policy mapping each state to an action.\n",
    "        env (object): The environment object that provides the `step` method.\n",
    "        goalstate (int): The goal state that the agent is trying to reach.\n",
    "\n",
    "    Returns:\n",
    "        steps (int): The number of steps taken to reach the goal state.\n",
    "    \"\"\"\n",
    "    state = 0 # Reset the environment to get the initial state\n",
    "    steps = 0\n",
    "    \n",
    "    while state != goalstate:\n",
    "        action = pi[state]  # Get the action for the current state from the policy\n",
    "        next_state, reward, done, _, __ = env.step(action)  # Take the action and get the result\n",
    "        \n",
    "        # If the next state is a dictionary, extract the state identifier\n",
    "        if isinstance(next_state, dict):\n",
    "            next_state = next_state.get('state')  # Assuming 'state' is the key for the state ID\n",
    "        \n",
    "        state = next_state  # Move to the next state\n",
    "        steps += 1\n",
    "        \n",
    "        if done:\n",
    "            break  # If the environment signals done, stop\n",
    "\n",
    "    return steps\n",
    "\n",
    "test_policy(pi1, env, 15)\n"
   ]
  }
 ],
 "metadata": {
  "kernelspec": {
   "display_name": "Python 3",
   "language": "python",
   "name": "python3"
  },
  "language_info": {
   "codemirror_mode": {
    "name": "ipython",
    "version": 3
   },
   "file_extension": ".py",
   "mimetype": "text/x-python",
   "name": "python",
   "nbconvert_exporter": "python",
   "pygments_lexer": "ipython3",
   "version": "3.12.1"
  }
 },
 "nbformat": 4,
 "nbformat_minor": 2
}
